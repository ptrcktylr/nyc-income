{
 "metadata": {
  "language_info": {
   "codemirror_mode": {
    "name": "ipython",
    "version": 3
   },
   "file_extension": ".py",
   "mimetype": "text/x-python",
   "name": "python",
   "nbconvert_exporter": "python",
   "pygments_lexer": "ipython3",
   "version": "3.9.1-final"
  },
  "orig_nbformat": 2,
  "kernelspec": {
   "name": "python3",
   "display_name": "Python 3.9.1 64-bit",
   "metadata": {
    "interpreter": {
     "hash": "aee8b7b246df8f9039afb4144a1f6fd8d2ca17a180786b69acc140d282b71a49"
    }
   }
  }
 },
 "nbformat": 4,
 "nbformat_minor": 2,
 "cells": [
  {
   "cell_type": "code",
   "execution_count": 1,
   "metadata": {},
   "outputs": [],
   "source": [
    "import pandas\n",
    "import json\n",
    "from bokeh.models import CustomJS, Slider\n",
    "from bokeh.io import show\n",
    "from bokeh.models import GeoJSONDataSource\n",
    "from bokeh.plotting import figure\n",
    "from bokeh.layouts import row"
   ]
  },
  {
   "cell_type": "code",
   "execution_count": 2,
   "metadata": {},
   "outputs": [],
   "source": [
    "def get_medians(zipcode, zipcode_df):\n",
    "    try:\n",
    "        median = int(zipcode_df[zipcode]['Number of Returns'].iloc[0]/2)\n",
    "        for i in range(1, 7):\n",
    "            if zipcode_df[zipcode]['Number of Returns'].iloc[i] < median:\n",
    "                median -= zipcode_df[zipcode]['Number of Returns'].iloc[i]\n",
    "            else:\n",
    "                return zipcode_df[zipcode]['AGI'].iloc[i]\n",
    "    except:\n",
    "        return \"No Information\""
   ]
  },
  {
   "cell_type": "code",
   "execution_count": 3,
   "metadata": {},
   "outputs": [],
   "source": [
    "COLORMAP = {'$1 under $25,000': '#0868ac',\n",
    "            '$25,000 under $50,000': '#43a2ca',\n",
    "            '$50,000 under $75,000': '#7bccc4',\n",
    "            '$75,000 under $100,000': '#a8ddb5',\n",
    "            '$100,000 under $200,000': '#ccebc5',\n",
    "            '$200,000 or more': '#f0f9e8',\n",
    "            'No Information': '#7a807e', }"
   ]
  },
  {
   "cell_type": "code",
   "execution_count": 4,
   "metadata": {},
   "outputs": [],
   "source": [
    "neighborhood_raw = pandas.read_excel(\"neighborhoods.xlsx\")"
   ]
  },
  {
   "cell_type": "code",
   "execution_count": 6,
   "metadata": {},
   "outputs": [],
   "source": [
    "zip_codes_neighborhoods = {}\n",
    "for idx, zipcodes in enumerate(neighborhood_raw[\"Zip Codes\"]):\n",
    "    if type(zipcodes) == str:\n",
    "        for zipcode in zipcodes.split(\",\"):\n",
    "            zip_codes_neighborhoods[zipcode.strip(\n",
    "            )] = neighborhood_raw[\"Neighborhood\"][idx]\n",
    "    else:\n",
    "        zip_codes_neighborhoods[str(\n",
    "            zipcodes)] = neighborhood_raw[\"Neighborhood\"][idx]"
   ]
  },
  {
   "cell_type": "code",
   "execution_count": 47,
   "metadata": {},
   "outputs": [
    {
     "output_type": "execute_result",
     "data": {
      "text/plain": [
       "True"
      ]
     },
     "metadata": {},
     "execution_count": 47
    }
   ],
   "source": [
    "# IRS Data\n",
    "def get_income_data(year):\n",
    "    year = str(year)\n",
    "    df = pandas.read_csv(f\"income_data/formatted_data/{year}_irs_data\")\n",
    "    return df\n",
    "\n",
    "df = get_income_data(2014)"
   ]
  },
  {
   "cell_type": "code",
   "execution_count": 55,
   "metadata": {
    "tags": []
   },
   "outputs": [
    {
     "output_type": "stream",
     "name": "stdout",
     "text": [
      "   Zip Code                      AGI  Number of Returns\n0     10001                      NaN              14080\n1     10001         $1 under $25,000               3880\n2     10001    $25,000 under $50,000               2530\n3     10001    $50,000 under $75,000               1850\n4     10001   $75,000 under $100,000               1300\n5     10001  $100,000 under $200,000               2350\n6     10001         $200,000 or more               2170\n"
     ]
    }
   ],
   "source": [
    "# Map Data\n",
    "zip_dfs = {}\n",
    "\n",
    "with open('nyc_zip_codes.json') as json_file:\n",
    "    data = json.load(json_file)\n",
    "    for i in range(len(data['features'])):\n",
    "        zipcode = data['features'][i]['properties']['postalCode']\n",
    "        if int(zipcode) in df['Zip Code'].values:\n",
    "            zip_dfs[zipcode] = df.loc[df['Zip Code'].values == int(zipcode)]\n",
    "        try:\n",
    "            data['features'][i]['properties']['neighborhood'] = zip_codes_neighborhoods[zipcode]\n",
    "        except:\n",
    "            data['features'][i]['properties']['neighborhood'] = \"None\"\n",
    "\n",
    "        data['features'][i]['properties']['median_income'] = get_medians(\n",
    "            zipcode, zip_dfs).strip()\n",
    "        data['features'][i]['properties']['color'] = COLORMAP[data['features']\n",
    "                                                              [i]['properties']['median_income']]\n",
    "\n",
    "geo_source = GeoJSONDataSource(geojson=json.dumps(data))"
   ]
  },
  {
   "cell_type": "code",
   "execution_count": null,
   "metadata": {},
   "outputs": [],
   "source": []
  }
 ]
}